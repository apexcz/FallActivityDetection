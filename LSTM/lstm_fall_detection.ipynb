{
 "cells": [
  {
   "cell_type": "code",
   "execution_count": 38,
   "metadata": {},
   "outputs": [
    {
     "name": "stdout",
     "output_type": "stream",
     "text": [
      "_________________________________________________________________\n",
      "Layer (type)                 Output Shape              Param #   \n",
      "=================================================================\n",
      "lstm_30 (LSTM)               (None, 4)                 96        \n",
      "_________________________________________________________________\n",
      "dense_33 (Dense)             (None, 1)                 5         \n",
      "=================================================================\n",
      "Total params: 101\n",
      "Trainable params: 101\n",
      "Non-trainable params: 0\n",
      "_________________________________________________________________\n",
      "None\n",
      "Epoch 1/10\n",
      "198/198 [==============================] - 9s 44ms/step - loss: 0.6738 - acc: 0.6616\n",
      "Epoch 2/10\n",
      "198/198 [==============================] - 6s 29ms/step - loss: 0.6425 - acc: 0.6667\n",
      "Epoch 3/10\n",
      "198/198 [==============================] - 6s 30ms/step - loss: 0.6214 - acc: 0.6667\n",
      "Epoch 4/10\n",
      "198/198 [==============================] - 6s 29ms/step - loss: 0.5967 - acc: 0.6667\n",
      "Epoch 5/10\n",
      "198/198 [==============================] - 6s 29ms/step - loss: 0.5797 - acc: 0.6717\n",
      "Epoch 6/10\n",
      "198/198 [==============================] - 6s 29ms/step - loss: 0.5495 - acc: 0.7222\n",
      "Epoch 7/10\n",
      "198/198 [==============================] - 6s 29ms/step - loss: 0.5404 - acc: 0.7424\n",
      "Epoch 8/10\n",
      "198/198 [==============================] - 6s 30ms/step - loss: 0.4805 - acc: 0.8081\n",
      "Epoch 9/10\n",
      "198/198 [==============================] - 6s 30ms/step - loss: 0.4904 - acc: 0.8182\n",
      "Epoch 10/10\n",
      "198/198 [==============================] - 6s 31ms/step - loss: 0.4540 - acc: 0.8535\n",
      "279/279 [==============================] - 2s 9ms/step\n",
      "Accuracy: 94.98%\n"
     ]
    },
    {
     "data": {
      "image/png": "[encoded data removed]",
      "text/plain": [
       "<matplotlib.figure.Figure at 0x14d87eda0>"
      ]
     },
     "metadata": {},
     "output_type": "display_data"
    }
   ],
   "source": [
    "import math\n",
    "import pandas as pd\n",
    "import numpy as np\n",
    "import matplotlib.pyplot as plt\n",
    "\n",
    "# LSTM for sequence classification in the fall dataset\n",
    "from keras.models import Sequential\n",
    "from keras.layers import Dense\n",
    "from keras.layers import LSTM\n",
    "from keras.layers.convolutional import Conv1D\n",
    "from keras.layers.convolutional import MaxPooling1D\n",
    "from keras.layers.embeddings import Embedding\n",
    "from keras.layers import Dropout\n",
    "from keras.preprocessing import sequence\n",
    "\n",
    "from sklearn.model_selection import train_test_split\n",
    "from sklearn.preprocessing import MinMaxScaler\n",
    "from sklearn.metrics import mean_squared_error\n",
    "\n",
    "#falls = df[df['isFall']==1]\n",
    "\n",
    "# convert an array of values into a dataset matrix\n",
    "def create_dataset(dataset, look_back=1):\n",
    "    dataX, dataY = [], []\n",
    "    for i in range(len(dataset)-look_back-1):\n",
    "        a = dataset[i:(i+look_back), 0]\n",
    "        dataX.append(a)\n",
    "        dataY.append(dataset[i + look_back, 0])\n",
    "    return numpy.array(dataX), numpy.array(dataY)\n",
    "\n",
    "# fix random seed for reproducibility\n",
    "numpy.random.seed(7)\n",
    "\n",
    "scaler = MinMaxScaler()\n",
    "\n",
    "train_df = pd.read_csv('Boyu_wrist.csv',index_col=0)\n",
    "train_df = train_df.drop(['activity'],axis=1)\n",
    "cols = train_df.columns.values.tolist()\n",
    "train_df = scaler.fit_transform(train_df)\n",
    "train_df = pd.DataFrame(train_df, columns=cols)\n",
    "y_train = train_df['isFall']\n",
    "X_train = train_df.drop(['isFall'],axis=1)\n",
    "X_train= np.reshape(X_train.as_matrix(),(X_train.shape[0],X_train.shape[1],1))\n",
    "\n",
    "test_df = pd.read_csv('Joon_wrist.csv',index_col=0)\n",
    "test_df = test_df.drop(['activity'],axis=1)\n",
    "test_df = scaler.fit_transform(test_df)\n",
    "test_df = pd.DataFrame(test_df, columns=cols)\n",
    "y_test = test_df['isFall']\n",
    "X_test = test_df.drop(['isFall'],axis=1) \n",
    "X_test= np.reshape(X_test.as_matrix(),(X_test.shape[0],X_test.shape[1],1))\n",
    "#X_train, X_test, y_train, y_test = train_test_split(X, Y, test_size=0.33, random_state=42)\n",
    "\n",
    "input_dim = 12\n",
    "output_dim = 1\n",
    "memory_units = 100\n",
    "\n",
    "#model.add(LSTM(150, input_shape=(64, 7, 339), return_sequences=False))\n",
    "\n",
    "model = Sequential()\n",
    "#model.add(Dense(12, input_dim=input_dim))\n",
    "model.add(LSTM(4, input_shape=(input_dim, 1), dropout=0.2, recurrent_dropout=0.2))\n",
    "#model.add(Dropout(0.2))\n",
    "#model.add(LSTM(memory_units))\n",
    "#model.add(Dropout(0.2))\n",
    "\n",
    "#model.add(Embedding(input_dim, output_dim))\n",
    "#model.add(Conv1D(filters=3, kernel_size=3, activation='relu'))\n",
    "#model.add(MaxPooling1D(pool_size=2))\n",
    "#model.add(LSTM(memory_units, dropout=0.2, recurrent_dropout=0.2))\n",
    "model.add(Dense(1, activation='sigmoid'))\n",
    "model.compile(loss='binary_crossentropy', optimizer='rmsprop', metrics=['accuracy'])\n",
    "\n",
    "print(model.summary())\n",
    "prediction = model.fit(X_train, y_train, epochs=10,verbose=1,batch_size=1)\n",
    "# Final evaluation of the model\n",
    "scores = model.evaluate(X_test, y_test, batch_size=1)\n",
    "print(\"Accuracy: %.2f%%\" % (scores[1]*100))\n",
    "\n",
    "#classes = model.predict(x_test, batch_size=1)\n",
    "\n",
    "# plot metrics\n",
    "plt.plot(prediction.history['acc'])\n",
    "plt.show()\n"
   ]
  },
  {
   "cell_type": "code",
   "execution_count": null,
   "metadata": {
    "collapsed": true
   },
   "outputs": [],
   "source": []
  },
  {
   "cell_type": "code",
   "execution_count": null,
   "metadata": {
    "collapsed": true
   },
   "outputs": [],
   "source": []
  }
 ],
 "metadata": {
  "kernelspec": {
   "display_name": "Python 3",
   "language": "python",
   "name": "python3"
  },
  "language_info": {
   "codemirror_mode": {
    "name": "ipython",
    "version": 3
   },
   "file_extension": ".py",
   "mimetype": "text/x-python",
   "name": "python",
   "nbconvert_exporter": "python",
   "pygments_lexer": "ipython3",
   "version": "3.6.2"
  }
 },
 "nbformat": 4,
 "nbformat_minor": 2
}
