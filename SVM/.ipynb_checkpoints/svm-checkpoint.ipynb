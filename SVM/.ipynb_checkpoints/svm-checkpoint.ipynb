{
 "cells": [
  {
   "cell_type": "code",
   "execution_count": 8,
   "metadata": {
    "collapsed": true
   },
   "outputs": [],
   "source": [
    "import random\n",
    "import numpy as np\n",
    "import pandas as pd\n",
    "from sklearn import svm"
   ]
  },
  {
   "cell_type": "code",
   "execution_count": 9,
   "metadata": {
    "collapsed": true
   },
   "outputs": [],
   "source": [
    "# Load Waist Data\n",
    "waist_data = pd.read_csv('data.csv', header=0)\n",
    "waist_size = len(waist_data)\n",
    "\n",
    "# Split Waist Data to Two Sets\n",
    "train_data=list()\n",
    "train_clas=list()\n",
    "test_data=list()\n",
    "test_clas=list()\n",
    "\n",
    "for i in range(waist_size):\n",
    "    r = random.randint(0, 1)\n",
    "    if (r):\n",
    "        train_data.append(list(waist_data.iloc[i,1:13]))\n",
    "        train_clas.append(int(waist_data.iloc[i,14:15]['isFall']))\n",
    "    else:\n",
    "        test_data.append(list(waist_data.iloc[i,1:13]))\n",
    "        test_clas.append(int(waist_data.iloc[i,14:15]['isFall']))"
   ]
  },
  {
   "cell_type": "code",
   "execution_count": 3,
   "metadata": {
    "collapsed": true
   },
   "outputs": [],
   "source": [
    "# Load Wrist Data\n",
    "wrist_data = pd.read_csv('Joon_wrist.csv', header=0)\n",
    "wrist_size = len(wrist_data)\n",
    "\n",
    "# Split Wrist Data to Two Sets\n",
    "train_data=list()\n",
    "train_clas=list()\n",
    "test_data=list()\n",
    "test_clas=list()\n",
    "\n",
    "for i in range(wrist_size):\n",
    "    r = random.randint(0, 1)\n",
    "    if (r):\n",
    "        train_data.append(list(wrist_data.iloc[i,1:13]))\n",
    "        train_clas.append(int(wrist_data.iloc[i,14:15]['isFall']))\n",
    "    else:\n",
    "        test_data.append(list(wrist_data.iloc[i,1:13]))\n",
    "        test_clas.append(int(wrist_data.iloc[i,14:15]['isFall']))"
   ]
  },
  {
   "cell_type": "code",
   "execution_count": 4,
   "metadata": {
    "collapsed": true
   },
   "outputs": [],
   "source": [
    "# Load Wrist Data\n",
    "wrist_data = pd.read_csv('Joon_wrist.csv', header=0)\n",
    "wrist_size = len(wrist_data)\n",
    "waist_data = pd.read_csv('Joon_waist.csv', header=0)\n",
    "waist_size = len(waist_data)\n",
    "\n",
    "# Split Wrist Data to Two Sets\n",
    "train_data=list()\n",
    "train_clas=list()\n",
    "test_data=list()\n",
    "test_clas=list()\n",
    "\n",
    "for i in range(wrist_size):\n",
    "    r = random.randint(0, 1)\n",
    "    wrist_base = list(wrist_data.iloc[i,1:13])\n",
    "    waist_base = list(waist_data.iloc[i,1:13])\n",
    "    if (r):\n",
    "        train_data.append(wrist_base + waist_base)\n",
    "        train_clas.append(int(wrist_data.iloc[i,14:15]['isFall']))\n",
    "    else:\n",
    "        test_data.append(wrist_base + waist_base)\n",
    "        test_clas.append(int(wrist_data.iloc[i,14:15]['isFall']))"
   ]
  },
  {
   "cell_type": "code",
   "execution_count": 10,
   "metadata": {
    "collapsed": true
   },
   "outputs": [],
   "source": [
    "# Train the Model\n",
    "clf_lin = svm.SVC(kernel='linear').fit(train_data, train_clas)\n",
    "clf_rbf = svm.SVC(kernel='rbf').fit(train_data, train_clas)\n",
    "clf_sig = svm.SVC(kernel='sigmoid').fit(train_data, train_clas)"
   ]
  },
  {
   "cell_type": "code",
   "execution_count": 11,
   "metadata": {
    "collapsed": true
   },
   "outputs": [],
   "source": [
    "# Test the Model\n",
    "pred_lin = clf_lin.predict(test_data)\n",
    "pred_rbf = clf_rbf.predict(test_data)\n",
    "pred_sig = clf_sig.predict(test_data)"
   ]
  },
  {
   "cell_type": "code",
   "execution_count": 12,
   "metadata": {},
   "outputs": [
    {
     "name": "stdout",
     "output_type": "stream",
     "text": [
      "The accuracy of linear SVM: 96.67 %\n",
      "The accuracy of rbf    SVM: 95.56 %\n",
      "The accuracy of sigmod SVM: 95.56 %\n"
     ]
    }
   ],
   "source": [
    "# Result Comparison\n",
    "relt_lin = sum([1 for i,j in zip(test_clas, pred_lin) if int(i) == int(j)]) / len(test_clas) * 100\n",
    "relt_rdf = sum([1 for i,j in zip(test_clas, pred_rbf) if int(i) == int(j)]) / len(test_clas) * 100\n",
    "relt_sig = sum([1 for i,j in zip(test_clas, pred_sig) if int(i) == int(j)]) / len(test_clas) * 100\n",
    "\n",
    "print('The accuracy of linear SVM: %.2f %%' % relt_lin)\n",
    "print('The accuracy of rbf    SVM: %.2f %%' % relt_rdf)\n",
    "print('The accuracy of sigmod SVM: %.2f %%' % relt_sig)"
   ]
  },
  {
   "cell_type": "code",
   "execution_count": 13,
   "metadata": {},
   "outputs": [
    {
     "name": "stdout",
     "output_type": "stream",
     "text": [
      "1 vs 0\n",
      "1 vs 0\n",
      "1 vs 0\n"
     ]
    }
   ],
   "source": [
    "for i, j in zip(test_clas, pred_lin):\n",
    "    if i != j:\n",
    "        print('%d vs %d' % (i, j))"
   ]
  },
  {
   "cell_type": "code",
   "execution_count": 7,
   "metadata": {},
   "outputs": [
    {
     "name": "stdout",
     "output_type": "stream",
     "text": [
      "1 vs 0\n",
      "1 vs 0\n",
      "1 vs 0\n"
     ]
    }
   ],
   "source": [
    "for i, j in zip(test_clas, pred_rbf):\n",
    "    if i != j:\n",
    "        print('%d vs %d' % (i, j))"
   ]
  },
  {
   "cell_type": "code",
   "execution_count": null,
   "metadata": {
    "collapsed": true
   },
   "outputs": [],
   "source": []
  }
 ],
 "metadata": {
  "kernelspec": {
   "display_name": "Python 3",
   "language": "python",
   "name": "python3"
  },
  "language_info": {
   "codemirror_mode": {
    "name": "ipython",
    "version": 3
   },
   "file_extension": ".py",
   "mimetype": "text/x-python",
   "name": "python",
   "nbconvert_exporter": "python",
   "pygments_lexer": "ipython3",
   "version": "3.6.2"
  }
 },
 "nbformat": 4,
 "nbformat_minor": 2
}
