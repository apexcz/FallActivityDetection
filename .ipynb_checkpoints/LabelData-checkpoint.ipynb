{
 "cells": [
  {
   "cell_type": "code",
   "execution_count": null,
   "metadata": {},
   "outputs": [],
   "source": [
    "import csv\n",
    "import json\n",
    "import time\n",
    "from datetime import datetime\n",
    "csvFile = open(\"Data.csv\",\"r\")\n",
    "reader = csv.reader(csvFile)\n",
    "olist = []\n",
    "rlist = []\n",
    "csvlist = []\n",
    "\n",
    "with open('sphere.WEAR.json','r') as f:\n",
    "    line = f.readline()\n",
    "    while line:\n",
    "        tmp = json.loads(line)\n",
    "        olist.append(tmp)\n",
    "        line = f.readline()\n",
    "for item in reader:\n",
    "    csvlist.append(item)\n",
    "count = 0        \n",
    "for d in olist:\n",
    "    count = count + 1\n",
    "    for item in csvlist:\n",
    "        t_stamp = time.strptime(d[\"bt\"][\"$date\"], \"%Y-%m-%dT%H:%M:%S.%f+0000\")\n",
    "        onlytime = time.strftime(\"%H:%M:%S\", t_stamp)\n",
    "        time_stamp_record = time.mktime(time.strptime(onlytime,\"%H:%M:%S\"))\n",
    "        t_start = time.mktime(time.strptime(item[5],\"%H:%M:%S\"))\n",
    "        t_end = time.mktime(time.strptime(item[6],\"%H:%M:%S\"))\n",
    "        #print(d[\"uid\"] == item[3] or d[\"uid\"] == item[4]) and (time_stamp_record >= t_start and time_stamp_record <= t_end)\n",
    "        if (d[\"uid\"] == item[3] or d[\"uid\"] == item[4]) and (time_stamp_record >= t_start and time_stamp_record <= t_end):\n",
    "            d[\"activity\"] = item[2]\n",
    "            d[\"activity_id\"] = item[0]\n",
    "            d[\"is_Fall\"] = item[1] \n",
    "            break\n",
    "    rlist.append(json.dumps(d))\n",
    "        \n",
    "    \n",
    "\n",
    "count = 0\n",
    "with open('data.json','w') as wf:\n",
    "    for r in rlist:  \n",
    "        wf.write(r)\n",
    "        wf.write('\\n')\n",
    "\n",
    "            \n",
    "            \n",
    "\n",
    "print(\"finished\")\n",
    "        \n",
    "    \n",
    "    \n",
    "\n"
   ]
  },
  {
   "cell_type": "code",
   "execution_count": null,
   "metadata": {},
   "outputs": [],
   "source": []
  },
  {
   "cell_type": "code",
   "execution_count": null,
   "metadata": {},
   "outputs": [],
   "source": []
  }
 ],
 "metadata": {
  "kernelspec": {
   "display_name": "Python 3",
   "language": "python",
   "name": "python3"
  },
  "language_info": {
   "codemirror_mode": {
    "name": "ipython",
    "version": 3
   },
   "file_extension": ".py",
   "mimetype": "text/x-python",
   "name": "python",
   "nbconvert_exporter": "python",
   "pygments_lexer": "ipython3",
   "version": "3.6.4"
  }
 },
 "nbformat": 4,
 "nbformat_minor": 2
}
