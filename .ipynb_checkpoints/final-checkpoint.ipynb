{
 "cells": [
  {
   "cell_type": "code",
   "execution_count": 7,
   "metadata": {},
   "outputs": [
    {
     "name": "stdout",
     "output_type": "stream",
     "text": [
      "_________________________________________________________________\n",
      "Layer (type)                 Output Shape              Param #   \n",
      "=================================================================\n",
      "lstm_9 (LSTM)                (1, 100)                  40800     \n",
      "_________________________________________________________________\n",
      "dense_7 (Dense)              (1, 1)                    101       \n",
      "=================================================================\n",
      "Total params: 40,901\n",
      "Trainable params: 40,901\n",
      "Non-trainable params: 0\n",
      "_________________________________________________________________\n",
      "None\n",
      "Epoch 1/1\n",
      "198/198 [==============================] - 7s 34ms/step - loss: 0.5034 - acc: 0.8535\n",
      "Epoch 1/1\n",
      "198/198 [==============================] - 6s 29ms/step - loss: 0.3136 - acc: 0.9242\n",
      "Epoch 1/1\n",
      "198/198 [==============================] - 6s 30ms/step - loss: 0.3319 - acc: 0.9192\n",
      "Epoch 1/1\n",
      "198/198 [==============================] - 6s 29ms/step - loss: 0.3263 - acc: 0.9242\n",
      "Epoch 1/1\n",
      "198/198 [==============================] - 6s 30ms/step - loss: 0.2766 - acc: 0.9394\n",
      "279/279 [==============================] - 2s 5ms/step\n",
      "Accuracy: 64.52%\n"
     ]
    },
    {
     "data": {
      "image/png": "[encoded data removed]",
      "text/plain": [
       "<matplotlib.figure.Figure at 0x12314e198>"
      ]
     },
     "metadata": {},
     "output_type": "display_data"
    }
   ],
   "source": [
    "import math\n",
    "import pandas as pd\n",
    "import numpy as np\n",
    "import matplotlib.pyplot as plt\n",
    "\n",
    "# LSTM for sequence classification in the fall dataset\n",
    "from keras.models import Sequential\n",
    "from keras.layers import Dense\n",
    "from keras.layers import LSTM\n",
    "from keras.layers.convolutional import Conv1D\n",
    "from keras.layers.convolutional import MaxPooling1D\n",
    "from keras.layers.embeddings import Embedding\n",
    "from keras.layers import Dropout\n",
    "from keras.preprocessing import sequence\n",
    "\n",
    "from sklearn.model_selection import train_test_split\n",
    "from sklearn.preprocessing import MinMaxScaler\n",
    "from sklearn.metrics import mean_squared_error\n",
    "\n",
    "#falls = df[df['isFall']==1]\n",
    "\n",
    "# convert an array of values into a dataset matrix\n",
    "def create_dataset(dataset, look_back=1):\n",
    "    dataX, dataY = [], []\n",
    "    for i in range(len(dataset)-look_back-1):\n",
    "        a = dataset[i:(i+look_back), 0]\n",
    "        dataX.append(a)\n",
    "        dataY.append(dataset[i + look_back, 0])\n",
    "    return numpy.array(dataX), numpy.array(dataY)\n",
    "\n",
    "# fix random seed for reproducibility\n",
    "np.random.seed(7)\n",
    "\n",
    "scaler = MinMaxScaler()\n",
    "input_dim = 12\n",
    "output_dim = 1\n",
    "memory_units = 100\n",
    "batch_size = 1\n",
    "#look_back = 12\n",
    "\n",
    "train_df = pd.read_csv('Boyu_wrist.csv',index_col=0)\n",
    "train_df = train_df.drop(['activity'],axis=1)\n",
    "cols = train_df.columns.values.tolist()\n",
    "train_df = scaler.fit_transform(train_df)\n",
    "train_df = pd.DataFrame(train_df, columns=cols)\n",
    "y_train = train_df['isFall']\n",
    "X_train = train_df.drop(['isFall'],axis=1)\n",
    "X_train= np.reshape(X_train.as_matrix(),(X_train.shape[0],X_train.shape[1],1))\n",
    "\n",
    "test_df = pd.read_csv('Joon_wrist.csv',index_col=0)\n",
    "test_df = test_df.drop(['activity'],axis=1)\n",
    "test_df = scaler.fit_transform(test_df)\n",
    "test_df = pd.DataFrame(test_df, columns=cols)\n",
    "y_test = test_df['isFall']\n",
    "X_test = test_df.drop(['isFall'],axis=1) \n",
    "X_test= np.reshape(X_test.as_matrix(),(X_test.shape[0],X_test.shape[1],1))\n",
    "#X_train, X_test, y_train, y_test = train_test_split(X, Y, test_size=0.33, random_state=42)\n",
    "\n",
    "\n",
    "#model.add(LSTM(150, input_shape=(64, 7, 339), return_sequences=False))\n",
    "\n",
    "model = Sequential()\n",
    "#model.add(Dense(12, input_dim=input_dim))\n",
    "#model.add(LSTM(4, input_shape=(input_dim, 1), dropout=0.2, recurrent_dropout=0.2))\n",
    "model.add(LSTM(memory_units, batch_input_shape=(batch_size, input_dim, 1), stateful=True, dropout=0.2, recurrent_dropout=0.2))\n",
    "model.add(Dense(1, activation='sigmoid'))\n",
    "model.compile(loss='binary_crossentropy', optimizer='rmsprop', metrics=['accuracy'])\n",
    "\n",
    "print(model.summary())\n",
    "\n",
    "for i in range(5):\n",
    "    prediction = model.fit(X_train, y_train, epochs=1, batch_size=batch_size, verbose=1, shuffle=False)\n",
    "    model.reset_states()\n",
    "    \n",
    "# Final evaluation of the model\n",
    "scores = model.evaluate(X_test, y_test, batch_size=batch_size)\n",
    "print(\"Accuracy: %.2f%%\" % (scores[1]*100))\n",
    "print(scores)\n",
    "\n",
    "#classes = model.predict(x_test, batch_size=1)\n",
    "\n",
    "# plot metrics\n",
    "plt.plot(prediction.history['acc'])\n",
    "plt.show()\n"
   ]
  },
  {
   "cell_type": "code",
   "execution_count": null,
   "metadata": {
    "collapsed": true
   },
   "outputs": [],
   "source": []
  },
  {
   "cell_type": "code",
   "execution_count": null,
   "metadata": {
    "collapsed": true
   },
   "outputs": [],
   "source": []
  }
 ],
 "metadata": {
  "kernelspec": {
   "display_name": "Python 3",
   "language": "python",
   "name": "python3"
  },
  "language_info": {
   "codemirror_mode": {
    "name": "ipython",
    "version": 3
   },
   "file_extension": ".py",
   "mimetype": "text/x-python",
   "name": "python",
   "nbconvert_exporter": "python",
   "pygments_lexer": "ipython3",
   "version": "3.6.2"
  }
 },
 "nbformat": 4,
 "nbformat_minor": 2
}
