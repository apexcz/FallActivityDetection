{
 "cells": [
  {
   "cell_type": "code",
   "execution_count": 21,
   "metadata": {},
   "outputs": [
    {
     "name": "stdout",
     "output_type": "stream",
     "text": [
      "(9, 17)\n"
     ]
    }
   ],
   "source": [
    "import pandas as pd\n",
    "from sklearn.cluster import KMeans\n",
    "from sklearn.model_selection import train_test_split\n",
    "\n",
    "df = pd.read_csv('wrist_data.csv')\n",
    "falls = df[df['isFall']==1]\n",
    "print(falls.shape)\n",
    "\n",
    "\n"
   ]
  },
  {
   "cell_type": "code",
   "execution_count": 24,
   "metadata": {},
   "outputs": [],
   "source": [
    "X= df.loc[:,['mean_x']]"
   ]
  },
  {
   "cell_type": "code",
   "execution_count": 25,
   "metadata": {
    "collapsed": true
   },
   "outputs": [],
   "source": [
    "y= df.loc[:,['isFall']]"
   ]
  },
  {
   "cell_type": "code",
   "execution_count": null,
   "metadata": {
    "collapsed": true
   },
   "outputs": [],
   "source": [
    "trainX, testX, trainY, testY = train_test_split(X, y, test_size=0.33, random_state=42)"
   ]
  },
  {
   "cell_type": "code",
   "execution_count": 28,
   "metadata": {},
   "outputs": [
    {
     "ename": "ValueError",
     "evalue": "0.3 cannot be used to seed a numpy.random.RandomState instance",
     "output_type": "error",
     "traceback": [
      "\u001b[0;31m---------------------------------------------------------------------------\u001b[0m",
      "\u001b[0;31mValueError\u001b[0m                                Traceback (most recent call last)",
      "\u001b[0;32m<ipython-input-28-4d9a78bc7a38>\u001b[0m in \u001b[0;36m<module>\u001b[0;34m()\u001b[0m\n\u001b[0;32m----> 1\u001b[0;31m \u001b[0mtrain_test_split\u001b[0m\u001b[0;34m(\u001b[0m\u001b[0mX\u001b[0m\u001b[0;34m,\u001b[0m\u001b[0my\u001b[0m\u001b[0;34m,\u001b[0m\u001b[0mrandom_state\u001b[0m\u001b[0;34m=\u001b[0m\u001b[0;36m0.3\u001b[0m\u001b[0;34m)\u001b[0m\u001b[0;34m\u001b[0m\u001b[0m\n\u001b[0m",
      "\u001b[0;32m~/miniconda3/envs/myenv/lib/python3.6/site-packages/sklearn/model_selection/_split.py\u001b[0m in \u001b[0;36mtrain_test_split\u001b[0;34m(*arrays, **options)\u001b[0m\n\u001b[1;32m   2038\u001b[0m                      random_state=random_state)\n\u001b[1;32m   2039\u001b[0m \u001b[0;34m\u001b[0m\u001b[0m\n\u001b[0;32m-> 2040\u001b[0;31m         \u001b[0mtrain\u001b[0m\u001b[0;34m,\u001b[0m \u001b[0mtest\u001b[0m \u001b[0;34m=\u001b[0m \u001b[0mnext\u001b[0m\u001b[0;34m(\u001b[0m\u001b[0mcv\u001b[0m\u001b[0;34m.\u001b[0m\u001b[0msplit\u001b[0m\u001b[0;34m(\u001b[0m\u001b[0mX\u001b[0m\u001b[0;34m=\u001b[0m\u001b[0marrays\u001b[0m\u001b[0;34m[\u001b[0m\u001b[0;36m0\u001b[0m\u001b[0;34m]\u001b[0m\u001b[0;34m,\u001b[0m \u001b[0my\u001b[0m\u001b[0;34m=\u001b[0m\u001b[0mstratify\u001b[0m\u001b[0;34m)\u001b[0m\u001b[0;34m)\u001b[0m\u001b[0;34m\u001b[0m\u001b[0m\n\u001b[0m\u001b[1;32m   2041\u001b[0m \u001b[0;34m\u001b[0m\u001b[0m\n\u001b[1;32m   2042\u001b[0m     return list(chain.from_iterable((safe_indexing(a, train),\n",
      "\u001b[0;32m~/miniconda3/envs/myenv/lib/python3.6/site-packages/sklearn/model_selection/_split.py\u001b[0m in \u001b[0;36msplit\u001b[0;34m(self, X, y, groups)\u001b[0m\n\u001b[1;32m   1194\u001b[0m         \"\"\"\n\u001b[1;32m   1195\u001b[0m         \u001b[0mX\u001b[0m\u001b[0;34m,\u001b[0m \u001b[0my\u001b[0m\u001b[0;34m,\u001b[0m \u001b[0mgroups\u001b[0m \u001b[0;34m=\u001b[0m \u001b[0mindexable\u001b[0m\u001b[0;34m(\u001b[0m\u001b[0mX\u001b[0m\u001b[0;34m,\u001b[0m \u001b[0my\u001b[0m\u001b[0;34m,\u001b[0m \u001b[0mgroups\u001b[0m\u001b[0;34m)\u001b[0m\u001b[0;34m\u001b[0m\u001b[0m\n\u001b[0;32m-> 1196\u001b[0;31m         \u001b[0;32mfor\u001b[0m \u001b[0mtrain\u001b[0m\u001b[0;34m,\u001b[0m \u001b[0mtest\u001b[0m \u001b[0;32min\u001b[0m \u001b[0mself\u001b[0m\u001b[0;34m.\u001b[0m\u001b[0m_iter_indices\u001b[0m\u001b[0;34m(\u001b[0m\u001b[0mX\u001b[0m\u001b[0;34m,\u001b[0m \u001b[0my\u001b[0m\u001b[0;34m,\u001b[0m \u001b[0mgroups\u001b[0m\u001b[0;34m)\u001b[0m\u001b[0;34m:\u001b[0m\u001b[0;34m\u001b[0m\u001b[0m\n\u001b[0m\u001b[1;32m   1197\u001b[0m             \u001b[0;32myield\u001b[0m \u001b[0mtrain\u001b[0m\u001b[0;34m,\u001b[0m \u001b[0mtest\u001b[0m\u001b[0;34m\u001b[0m\u001b[0m\n\u001b[1;32m   1198\u001b[0m \u001b[0;34m\u001b[0m\u001b[0m\n",
      "\u001b[0;32m~/miniconda3/envs/myenv/lib/python3.6/site-packages/sklearn/model_selection/_split.py\u001b[0m in \u001b[0;36m_iter_indices\u001b[0;34m(self, X, y, groups)\u001b[0m\n\u001b[1;32m   1295\u001b[0m                                                   \u001b[0mself\u001b[0m\u001b[0;34m.\u001b[0m\u001b[0mtest_size\u001b[0m\u001b[0;34m,\u001b[0m\u001b[0;34m\u001b[0m\u001b[0m\n\u001b[1;32m   1296\u001b[0m                                                   self.train_size)\n\u001b[0;32m-> 1297\u001b[0;31m         \u001b[0mrng\u001b[0m \u001b[0;34m=\u001b[0m \u001b[0mcheck_random_state\u001b[0m\u001b[0;34m(\u001b[0m\u001b[0mself\u001b[0m\u001b[0;34m.\u001b[0m\u001b[0mrandom_state\u001b[0m\u001b[0;34m)\u001b[0m\u001b[0;34m\u001b[0m\u001b[0m\n\u001b[0m\u001b[1;32m   1298\u001b[0m         \u001b[0;32mfor\u001b[0m \u001b[0mi\u001b[0m \u001b[0;32min\u001b[0m \u001b[0mrange\u001b[0m\u001b[0;34m(\u001b[0m\u001b[0mself\u001b[0m\u001b[0;34m.\u001b[0m\u001b[0mn_splits\u001b[0m\u001b[0;34m)\u001b[0m\u001b[0;34m:\u001b[0m\u001b[0;34m\u001b[0m\u001b[0m\n\u001b[1;32m   1299\u001b[0m             \u001b[0;31m# random partition\u001b[0m\u001b[0;34m\u001b[0m\u001b[0;34m\u001b[0m\u001b[0m\n",
      "\u001b[0;32m~/miniconda3/envs/myenv/lib/python3.6/site-packages/sklearn/utils/validation.py\u001b[0m in \u001b[0;36mcheck_random_state\u001b[0;34m(seed)\u001b[0m\n\u001b[1;32m    602\u001b[0m         \u001b[0;32mreturn\u001b[0m \u001b[0mseed\u001b[0m\u001b[0;34m\u001b[0m\u001b[0m\n\u001b[1;32m    603\u001b[0m     raise ValueError('%r cannot be used to seed a numpy.random.RandomState'\n\u001b[0;32m--> 604\u001b[0;31m                      ' instance' % seed)\n\u001b[0m\u001b[1;32m    605\u001b[0m \u001b[0;34m\u001b[0m\u001b[0m\n\u001b[1;32m    606\u001b[0m \u001b[0;34m\u001b[0m\u001b[0m\n",
      "\u001b[0;31mValueError\u001b[0m: 0.3 cannot be used to seed a numpy.random.RandomState instance"
     ]
    }
   ],
   "source": [
    "train_test_split(X,y,random_state=0.3)"
   ]
  },
  {
   "cell_type": "code",
   "execution_count": null,
   "metadata": {},
   "outputs": [],
   "source": []
  },
  {
   "cell_type": "code",
   "execution_count": 8,
   "metadata": {},
   "outputs": [
    {
     "data": {
      "text/html": [
       "<div>\n",
       "<style>\n",
       "    .dataframe thead tr:only-child th {\n",
       "        text-align: right;\n",
       "    }\n",
       "\n",
       "    .dataframe thead th {\n",
       "        text-align: left;\n",
       "    }\n",
       "\n",
       "    .dataframe tbody tr th {\n",
       "        vertical-align: top;\n",
       "    }\n",
       "</style>\n",
       "<table border=\"1\" class=\"dataframe\">\n",
       "  <thead>\n",
       "    <tr style=\"text-align: right;\">\n",
       "      <th></th>\n",
       "      <th>id</th>\n",
       "      <th>max_x</th>\n",
       "      <th>max_y</th>\n",
       "      <th>max_z</th>\n",
       "      <th>min_x</th>\n",
       "      <th>min_y</th>\n",
       "      <th>min_z</th>\n",
       "      <th>mean_x</th>\n",
       "      <th>mean_y</th>\n",
       "      <th>mean_z</th>\n",
       "      <th>var_x</th>\n",
       "      <th>var_y</th>\n",
       "      <th>var_z</th>\n",
       "      <th>activity</th>\n",
       "      <th>isFall</th>\n",
       "      <th>timestamp</th>\n",
       "      <th>duration</th>\n",
       "    </tr>\n",
       "  </thead>\n",
       "  <tbody>\n",
       "    <tr>\n",
       "      <th>0</th>\n",
       "      <td>1</td>\n",
       "      <td>1.376</td>\n",
       "      <td>0.480</td>\n",
       "      <td>0.160</td>\n",
       "      <td>0.608</td>\n",
       "      <td>0.064</td>\n",
       "      <td>-0.192</td>\n",
       "      <td>0.944410</td>\n",
       "      <td>0.302359</td>\n",
       "      <td>0.018051</td>\n",
       "      <td>0.011835</td>\n",
       "      <td>0.005820</td>\n",
       "      <td>0.005214</td>\n",
       "      <td>Walk-Flat Ground</td>\n",
       "      <td>0</td>\n",
       "      <td>1.521639e+09</td>\n",
       "      <td>4.58</td>\n",
       "    </tr>\n",
       "    <tr>\n",
       "      <th>1</th>\n",
       "      <td>2</td>\n",
       "      <td>1.376</td>\n",
       "      <td>0.480</td>\n",
       "      <td>0.576</td>\n",
       "      <td>0.736</td>\n",
       "      <td>0.064</td>\n",
       "      <td>-0.320</td>\n",
       "      <td>0.963404</td>\n",
       "      <td>0.317277</td>\n",
       "      <td>-0.012255</td>\n",
       "      <td>0.016699</td>\n",
       "      <td>0.006093</td>\n",
       "      <td>0.023511</td>\n",
       "      <td>Walk-Flat Ground</td>\n",
       "      <td>0</td>\n",
       "      <td>1.521639e+09</td>\n",
       "      <td>4.98</td>\n",
       "    </tr>\n",
       "    <tr>\n",
       "      <th>2</th>\n",
       "      <td>3</td>\n",
       "      <td>1.216</td>\n",
       "      <td>0.384</td>\n",
       "      <td>0.576</td>\n",
       "      <td>0.768</td>\n",
       "      <td>0.256</td>\n",
       "      <td>-0.320</td>\n",
       "      <td>0.920471</td>\n",
       "      <td>0.325647</td>\n",
       "      <td>0.015059</td>\n",
       "      <td>0.010906</td>\n",
       "      <td>0.002317</td>\n",
       "      <td>0.047841</td>\n",
       "      <td>Walk-Flat Ground</td>\n",
       "      <td>0</td>\n",
       "      <td>1.521639e+09</td>\n",
       "      <td>4.10</td>\n",
       "    </tr>\n",
       "    <tr>\n",
       "      <th>3</th>\n",
       "      <td>4</td>\n",
       "      <td>1.696</td>\n",
       "      <td>1.408</td>\n",
       "      <td>0.576</td>\n",
       "      <td>-0.416</td>\n",
       "      <td>0.224</td>\n",
       "      <td>0.000</td>\n",
       "      <td>0.842030</td>\n",
       "      <td>0.380179</td>\n",
       "      <td>0.138030</td>\n",
       "      <td>0.087581</td>\n",
       "      <td>0.066683</td>\n",
       "      <td>0.016054</td>\n",
       "      <td>Run-Flat Ground</td>\n",
       "      <td>0</td>\n",
       "      <td>1.521639e+09</td>\n",
       "      <td>4.94</td>\n",
       "    </tr>\n",
       "    <tr>\n",
       "      <th>4</th>\n",
       "      <td>5</td>\n",
       "      <td>3.168</td>\n",
       "      <td>1.280</td>\n",
       "      <td>0.704</td>\n",
       "      <td>-0.384</td>\n",
       "      <td>-0.160</td>\n",
       "      <td>-0.320</td>\n",
       "      <td>0.982519</td>\n",
       "      <td>0.280296</td>\n",
       "      <td>0.046815</td>\n",
       "      <td>0.300170</td>\n",
       "      <td>0.032007</td>\n",
       "      <td>0.013680</td>\n",
       "      <td>Jump</td>\n",
       "      <td>0</td>\n",
       "      <td>1.521639e+09</td>\n",
       "      <td>4.98</td>\n",
       "    </tr>\n",
       "  </tbody>\n",
       "</table>\n",
       "</div>"
      ],
      "text/plain": [
       "   id  max_x  max_y  max_z  min_x  min_y  min_z    mean_x    mean_y    mean_z  \\\n",
       "0   1  1.376  0.480  0.160  0.608  0.064 -0.192  0.944410  0.302359  0.018051   \n",
       "1   2  1.376  0.480  0.576  0.736  0.064 -0.320  0.963404  0.317277 -0.012255   \n",
       "2   3  1.216  0.384  0.576  0.768  0.256 -0.320  0.920471  0.325647  0.015059   \n",
       "3   4  1.696  1.408  0.576 -0.416  0.224  0.000  0.842030  0.380179  0.138030   \n",
       "4   5  3.168  1.280  0.704 -0.384 -0.160 -0.320  0.982519  0.280296  0.046815   \n",
       "\n",
       "      var_x     var_y     var_z          activity  isFall     timestamp  \\\n",
       "0  0.011835  0.005820  0.005214  Walk-Flat Ground       0  1.521639e+09   \n",
       "1  0.016699  0.006093  0.023511  Walk-Flat Ground       0  1.521639e+09   \n",
       "2  0.010906  0.002317  0.047841  Walk-Flat Ground       0  1.521639e+09   \n",
       "3  0.087581  0.066683  0.016054   Run-Flat Ground       0  1.521639e+09   \n",
       "4  0.300170  0.032007  0.013680              Jump       0  1.521639e+09   \n",
       "\n",
       "   duration  \n",
       "0      4.58  \n",
       "1      4.98  \n",
       "2      4.10  \n",
       "3      4.94  \n",
       "4      4.98  "
      ]
     },
     "execution_count": 8,
     "metadata": {},
     "output_type": "execute_result"
    }
   ],
   "source": [
    "df.head()"
   ]
  },
  {
   "cell_type": "code",
   "execution_count": 9,
   "metadata": {},
   "outputs": [
    {
     "data": {
      "text/plain": [
       "(189, 17)"
      ]
     },
     "execution_count": 9,
     "metadata": {},
     "output_type": "execute_result"
    }
   ],
   "source": [
    "df.shape"
   ]
  },
  {
   "cell_type": "code",
   "execution_count": null,
   "metadata": {
    "collapsed": true
   },
   "outputs": [],
   "source": []
  }
 ],
 "metadata": {
  "kernelspec": {
   "display_name": "Python 3",
   "language": "python",
   "name": "python3"
  },
  "language_info": {
   "codemirror_mode": {
    "name": "ipython",
    "version": 3
   },
   "file_extension": ".py",
   "mimetype": "text/x-python",
   "name": "python",
   "nbconvert_exporter": "python",
   "pygments_lexer": "ipython3",
   "version": "3.6.2"
  }
 },
 "nbformat": 4,
 "nbformat_minor": 2
}
