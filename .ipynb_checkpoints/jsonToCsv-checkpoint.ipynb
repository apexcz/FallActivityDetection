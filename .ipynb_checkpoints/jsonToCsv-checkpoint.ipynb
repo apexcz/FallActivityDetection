{
 "cells": [
  {
   "cell_type": "code",
   "execution_count": 2,
   "metadata": {},
   "outputs": [
    {
     "name": "stdout",
     "output_type": "stream",
     "text": [
      "Finished\n"
     ]
    }
   ],
   "source": [
    "import csv\n",
    "import json\n",
    "import time\n",
    "from datetime import datetime\n",
    "csvFile = open(\"Data.csv\",\"r\")\n",
    "reader = csv.reader(csvFile)\n",
    "\n",
    "jList = []\n",
    "csvList = []\n",
    "\n",
    "with open('Data.json','r') as f:\n",
    "    line = f.readline()\n",
    "    while line:\n",
    "        d = json.loads(line)\n",
    "        jList.append(d)\n",
    "        line = f.readline()\n",
    "\n",
    "for item in jList:\n",
    "    t_time = datetime.strptime(item[\"bt\"][\"$date\"], \"%Y-%m-%dT%H:%M:%S.%f+0000\")\n",
    "    t_stamp = time.mktime(t_time.timetuple())\n",
    "    t_stamp += t_time.microsecond/1000000\n",
    "    #print(t_stamp)\n",
    "    if \"e\" in item.keys():\n",
    "        e = item[\"e\"]\n",
    "        for i in e:\n",
    "            activity = \"\"\n",
    "            activityID = 0\n",
    "            isFall = 0\n",
    "            if \"activity\" in item.keys()  :\n",
    "                activity = item[\"activity\"]\n",
    "                activityID = item[\"activity_id\"]\n",
    "                isFall = item[\"is_Fall\"] \n",
    "                \n",
    "            time_stamp = t_stamp - i[\"t\"];#get the precise timestamp\n",
    "            date_time = datetime.fromtimestamp(time_stamp)\n",
    "            time_string = date_time.strftime('%Y-%m-%d %H:%M:%S.%f')\n",
    "            #print(time_string)\n",
    "            tmpList = [item[\"uid\"],i[\"v\"][0],i[\"v\"][1],i[\"v\"][2],time_stamp,time_string,activity,activityID,isFall]\n",
    "            csvList.append(tmpList)\n",
    "        \n",
    "        \n",
    "with open(\"timeLine.csv\",\"w\") as csvfile: \n",
    "    writer = csv.writer(csvfile)\n",
    "    writer.writerow([\"uid\",\"x\",\"y\",\"z\",\"timeStamp\",\"time\",\"activity\",\"activityID\",\"isFall\"])\n",
    "    writer.writerows(csvList)\n",
    "    \n",
    "print(\"Finished\")\n",
    "    \n",
    "    \n",
    "\n"
   ]
  },
  {
   "cell_type": "code",
   "execution_count": null,
   "metadata": {},
   "outputs": [],
   "source": []
  },
  {
   "cell_type": "code",
   "execution_count": null,
   "metadata": {},
   "outputs": [],
   "source": []
  }
 ],
 "metadata": {
  "kernelspec": {
   "display_name": "Python 3",
   "language": "python",
   "name": "python3"
  },
  "language_info": {
   "codemirror_mode": {
    "name": "ipython",
    "version": 3
   },
   "file_extension": ".py",
   "mimetype": "text/x-python",
   "name": "python",
   "nbconvert_exporter": "python",
   "pygments_lexer": "ipython3",
   "version": "3.6.4"
  }
 },
 "nbformat": 4,
 "nbformat_minor": 2
}
